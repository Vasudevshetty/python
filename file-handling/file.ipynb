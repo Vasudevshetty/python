{
 "cells": [
  {
   "cell_type": "code",
   "execution_count": 2,
   "metadata": {},
   "outputs": [
    {
     "name": "stdout",
     "output_type": "stream",
     "text": [
      " world! How are you today?\n",
      "The sun is shining bright in the sky.\n",
      "Birds are chirping in the garden.\n",
      "A gentle breeze rustles through the trees.\n",
      "What a beautiful day to be alive.\n"
     ]
    }
   ],
   "source": [
    "with open('ex.txt', 'r') as file:\n",
    "    content = file.read()\n",
    "    print(content)"
   ]
  },
  {
   "cell_type": "code",
   "execution_count": 5,
   "metadata": {},
   "outputs": [
    {
     "name": "stdout",
     "output_type": "stream",
     "text": [
      "world! How are you today?\n",
      "The sun is shining bright in the sky.\n",
      "Birds are chirping in the garden.\n",
      "A gentle breeze rustles through the trees.\n",
      "What a beautiful day to be alive.\n"
     ]
    }
   ],
   "source": [
    "with open('ex.txt', 'r') as file:\n",
    "    for line in file:\n",
    "        print(line.strip()) # strip() removes the newline char"
   ]
  },
  {
   "cell_type": "code",
   "execution_count": 7,
   "metadata": {},
   "outputs": [],
   "source": [
    "## with overwriting\n",
    "with open('ex.txt', 'w') as file:\n",
    "    file.write('hello world\\n')"
   ]
  },
  {
   "cell_type": "code",
   "execution_count": 9,
   "metadata": {},
   "outputs": [],
   "source": [
    "## without overwriting\n",
    "with open('ex.txt', 'a') as file:\n",
    "    file.write('hello world\\n')\n",
    "    file.write('hello world\\n')\n",
    "\n",
    "## w+ mode, is for creating a file if not exists, and also look into more file methods"
   ]
  },
  {
   "cell_type": "code",
   "execution_count": 11,
   "metadata": {},
   "outputs": [
    {
     "name": "stdout",
     "output_type": "stream",
     "text": [
      "Current working directory: c:\\Users\\vasud\\Learnings\\aimlgenai\\python\\file-handling\n"
     ]
    }
   ],
   "source": [
    "import os \n",
    "cwd = os.getcwd()\n",
    "print(f'Current working directory: {cwd}')"
   ]
  },
  {
   "cell_type": "code",
   "execution_count": 13,
   "metadata": {},
   "outputs": [
    {
     "ename": "FileExistsError",
     "evalue": "[WinError 183] Cannot create a file when that file already exists: 'package'",
     "output_type": "error",
     "traceback": [
      "\u001b[1;31m---------------------------------------------------------------------------\u001b[0m",
      "\u001b[1;31mFileExistsError\u001b[0m                           Traceback (most recent call last)",
      "Cell \u001b[1;32mIn[13], line 2\u001b[0m\n\u001b[0;32m      1\u001b[0m new_dir\u001b[38;5;241m=\u001b[39m\u001b[38;5;124m'\u001b[39m\u001b[38;5;124mpackage\u001b[39m\u001b[38;5;124m'\u001b[39m\n\u001b[1;32m----> 2\u001b[0m \u001b[43mos\u001b[49m\u001b[38;5;241;43m.\u001b[39;49m\u001b[43mmkdir\u001b[49m\u001b[43m(\u001b[49m\u001b[43mnew_dir\u001b[49m\u001b[43m)\u001b[49m\n\u001b[0;32m      3\u001b[0m \u001b[38;5;28mprint\u001b[39m(\u001b[38;5;124mf\u001b[39m\u001b[38;5;124m\"\u001b[39m\u001b[38;5;124mDir \u001b[39m\u001b[38;5;124m'\u001b[39m\u001b[38;5;132;01m{\u001b[39;00mnew_dir\u001b[38;5;132;01m}\u001b[39;00m\u001b[38;5;124m'\u001b[39m\u001b[38;5;124m create\u001b[39m\u001b[38;5;124m\"\u001b[39m)\n",
      "\u001b[1;31mFileExistsError\u001b[0m: [WinError 183] Cannot create a file when that file already exists: 'package'"
     ]
    }
   ],
   "source": [
    "new_dir='package'\n",
    "os.mkdir(new_dir)\n",
    "print(f\"Dir '{new_dir}' create\")"
   ]
  },
  {
   "cell_type": "code",
   "execution_count": 15,
   "metadata": {},
   "outputs": [
    {
     "name": "stdout",
     "output_type": "stream",
     "text": [
      "['ex.txt', 'file.ipynb', 'package']\n"
     ]
    }
   ],
   "source": [
    "items=os.listdir(\".\")\n",
    "print(items)"
   ]
  },
  {
   "cell_type": "code",
   "execution_count": 18,
   "metadata": {},
   "outputs": [
    {
     "name": "stdout",
     "output_type": "stream",
     "text": [
      "c:\\Users\\vasud\\Learnings\\aimlgenai\\python\\file-handling\\folder\\ex.txt\n"
     ]
    }
   ],
   "source": [
    "dir_name='folder'\n",
    "file_name='ex.txt'\n",
    "fullpath=os.path.join(os.getcwd(), dir_name, file_name)\n",
    "print(fullpath)"
   ]
  },
  {
   "cell_type": "code",
   "execution_count": 19,
   "metadata": {},
   "outputs": [
    {
     "name": "stdout",
     "output_type": "stream",
     "text": [
      "ex.txt is a file\n"
     ]
    }
   ],
   "source": [
    "#checking if a path is file or dir\n",
    "\n",
    "path='ex.txt'\n",
    "\n",
    "if os.path.isfile(path):\n",
    "    print(f'{path} is a file')\n",
    "elif os.path.isdir(path):\n",
    "    print(f'{path} is a directory')\n",
    "else:\n",
    "    print(f'{path} is neither a file nor a directory')\n"
   ]
  }
 ],
 "metadata": {
  "kernelspec": {
   "display_name": "Python 3",
   "language": "python",
   "name": "python3"
  },
  "language_info": {
   "codemirror_mode": {
    "name": "ipython",
    "version": 3
   },
   "file_extension": ".py",
   "mimetype": "text/x-python",
   "name": "python",
   "nbconvert_exporter": "python",
   "pygments_lexer": "ipython3",
   "version": "3.10.16"
  }
 },
 "nbformat": 4,
 "nbformat_minor": 2
}
