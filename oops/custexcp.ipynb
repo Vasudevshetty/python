{
 "cells": [
  {
   "cell_type": "code",
   "execution_count": 2,
   "metadata": {},
   "outputs": [
    {
     "name": "stdout",
     "output_type": "stream",
     "text": [
      "Date of birth is valid.\n"
     ]
    }
   ],
   "source": [
    "class dobException(Exception):\n",
    "    pass\n",
    "\n",
    "def validate_dob(dob: str):\n",
    "    try:\n",
    "        year, month, day = map(int, dob.split('-'))\n",
    "        if not (1 <= month <= 12):\n",
    "            raise dobException(\"Invalid month value.\")\n",
    "        if not (1 <= day <= 31):\n",
    "            raise dobException(\"Invalid day value.\")\n",
    "        if month == 2 and day > 29:\n",
    "            raise dobException(\"February cannot have more than 29 days.\")\n",
    "        if month in {4, 6, 9, 11} and day > 30:\n",
    "            raise dobException(\"This month cannot have more than 30 days.\")\n",
    "    except ValueError:\n",
    "        raise dobException(\"Date of birth must be in 'YYYY-MM-DD' format.\")\n",
    "\n",
    "    return True\n",
    "\n",
    "# Example usage\n",
    "if __name__ == \"__main__\":\n",
    "    dob = \"2023-02-29\"\n",
    "    try:\n",
    "        validate_dob(dob)\n",
    "        print(\"Date of birth is valid.\")\n",
    "    except dobException as e:\n",
    "        print(f\"Error: {e}\")"
   ]
  }
 ],
 "metadata": {
  "kernelspec": {
   "display_name": "Python 3",
   "language": "python",
   "name": "python3"
  },
  "language_info": {
   "codemirror_mode": {
    "name": "ipython",
    "version": 3
   },
   "file_extension": ".py",
   "mimetype": "text/x-python",
   "name": "python",
   "nbconvert_exporter": "python",
   "pygments_lexer": "ipython3",
   "version": "3.10.16"
  }
 },
 "nbformat": 4,
 "nbformat_minor": 2
}
