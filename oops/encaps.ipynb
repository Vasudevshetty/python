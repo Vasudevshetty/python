{
 "cells": [
  {
   "cell_type": "code",
   "execution_count": 6,
   "metadata": {},
   "outputs": [
    {
     "name": "stdout",
     "output_type": "stream",
     "text": [
      "Name: Bob, Salary: 50000, empssn: 12340\n"
     ]
    }
   ],
   "source": [
    "class Person:\n",
    "    def __init__(self, name, age):\n",
    "        self.__name = name\n",
    "        self.__age = age\n",
    "        self._empssn = 12340 # protected var, can be accessed by subclasses\n",
    "\n",
    "    def getname(self):\n",
    "        return self.__name\n",
    "        \n",
    "class Employee(Person):\n",
    "    def __init__(self, name, age, salary):\n",
    "        super().__init__(name, age) # call parent constructor\n",
    "        self.__salary = salary\n",
    "\n",
    "    def getssn(self):\n",
    "        return self._empssn\n",
    "\n",
    "    def get_salary(self):\n",
    "        return self.__salary\n",
    "    \n",
    "# def get_name(person): # this is public vars, so we can use it\n",
    "#     return person.name\n",
    "\n",
    "emp = Employee(\"Bob\", 25, 50000)\n",
    "print(f\"Name: {emp.getname()}, Salary: {emp.get_salary()}, empssn: {emp.getssn()}\")"
   ]
  }
 ],
 "metadata": {
  "kernelspec": {
   "display_name": "Python 3",
   "language": "python",
   "name": "python3"
  },
  "language_info": {
   "codemirror_mode": {
    "name": "ipython",
    "version": 3
   },
   "file_extension": ".py",
   "mimetype": "text/x-python",
   "name": "python",
   "nbconvert_exporter": "python",
   "pygments_lexer": "ipython3",
   "version": "3.10.16"
  }
 },
 "nbformat": 4,
 "nbformat_minor": 2
}
